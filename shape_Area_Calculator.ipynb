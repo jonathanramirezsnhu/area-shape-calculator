{
 "cells": [
  {
   "cell_type": "code",
   "execution_count": 4,
   "id": "37701698",
   "metadata": {},
   "outputs": [
    {
     "name": "stdout",
     "output_type": "stream",
     "text": [
      "===================\n",
      "  Area Calculator  \n",
      "===================\n",
      "\n",
      "\n",
      "1) Triangle\n",
      "2) Rectangle\n",
      "3) Square\n",
      "4) Circle\n",
      "5) Quit\n",
      "\n",
      "\n",
      "Which shape: 4\n",
      "Enter radius of the circle: 3.6\n",
      "The area of the Circle is:  40.7150064\n",
      "Which shape: 5\n",
      "Goodbye!\n"
     ]
    }
   ],
   "source": [
    "#Area Calculator\n",
    "#This program calculates the are for a given shape\n",
    "\n",
    "print(\"===================\")\n",
    "print(\"  Area Calculator  \")\n",
    "print(\"===================\")\n",
    "print(\"\\n\")\n",
    "print(\"1) Triangle\")\n",
    "print(\"2) Rectangle\")\n",
    "print(\"3) Square\")\n",
    "print(\"4) Circle\")\n",
    "print(\"5) Quit\")\n",
    "print(\"\\n\")\n",
    "\n",
    "#While loop keeps asking what shape to calculate the area until user enters 5\n",
    "menu_option = input (\"Which shape: \")\n",
    "while True:\n",
    "    # If menu option is 5, then end the program\n",
    "    if menu_option == '5':\n",
    "        print(\"Goodbye!\")\n",
    "        break\n",
    "        \n",
    "    # 1) Calculate area of Triangle\n",
    "    elif menu_option == '1':\n",
    "        height = float(input(\"Enter height of triangle: \"))\n",
    "        base = float(input(\"Enter base of triangle: \"))\n",
    "        # area = (height * base) / 2\n",
    "        triangle_area = (1/2) * (base * height)\n",
    "        print(\"The area of the Triangle is: \", triangle_area)\n",
    "\n",
    "    # 2) Calculate area of Rectangle\n",
    "    elif menu_option == '2':\n",
    "        length = float(input(\"Enter length of rectangle: \"))\n",
    "        width = float(input(\"Enter width of rectangle: \"))\n",
    "        # area = length x width\n",
    "        rectangle_area = length * width\n",
    "        print(\"The area of the Rectangle is: \", rectangle_area)\n",
    "        \n",
    "    # 3) Calculate area of Square\n",
    "    elif menu_option == '3':\n",
    "        side = float(input(\"Enter side length of square: \"))\n",
    "        # area = side^2\n",
    "        square_area = side ** 2\n",
    "        print(\"The area of the Square is: \", square_area)\n",
    "        \n",
    "    # 4) Calculate area of Circle\n",
    "    elif menu_option == '4':\n",
    "        PI = 3.14159 #The constant Pi\n",
    "        radius = float(input(\"Enter radius of the circle: \"))\n",
    "        #area = Pi * r^2\n",
    "        circle_area = PI * (radius ** 2)\n",
    "        print(\"The area of the Circle is: \", circle_area)\n",
    "        \n",
    "    # Keeps asking user for a shape to calculate its area\n",
    "    # until number 5 in which the while loop is exited \n",
    "    menu_option = input (\"Which shape: \")\n",
    "    "
   ]
  }
 ],
 "metadata": {
  "kernelspec": {
   "display_name": "Python 3 (ipykernel)",
   "language": "python",
   "name": "python3"
  },
  "language_info": {
   "codemirror_mode": {
    "name": "ipython",
    "version": 3
   },
   "file_extension": ".py",
   "mimetype": "text/x-python",
   "name": "python",
   "nbconvert_exporter": "python",
   "pygments_lexer": "ipython3",
   "version": "3.11.7"
  }
 },
 "nbformat": 4,
 "nbformat_minor": 5
}
